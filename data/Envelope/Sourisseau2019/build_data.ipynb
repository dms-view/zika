{
 "cells": [
  {
   "cell_type": "markdown",
   "metadata": {},
   "source": [
    "# Building `dms-view` datasets for [Sourisseau *et al.*, 2019](https://research.fhcrc.org/content/dam/stripe/bloom/labfiles/publications/Sourisseau2019.pdf)\n",
    "\n",
    "This jupyter notebook builds a `dms-view` datafile for the Deep Mutational Scanning (DMS; `Sourisseau2019_DMS.csv`) and the Mutational Antigenic Profiling (MAP; `Sourisseau2019_MAP.csv`) of Zika Envelope protein.\n",
    "The data is scraped from the [paper repo](https://github.com/jbloomlab/ZIKV_DMS_with_EvansLab). "
   ]
  },
  {
   "cell_type": "markdown",
   "metadata": {},
   "source": [
    "## notebook setup"
   ]
  },
  {
   "cell_type": "code",
   "execution_count": 1,
   "metadata": {},
   "outputs": [],
   "source": [
    "import pandas as pd\n",
    "from scipy.stats import entropy"
   ]
  },
  {
   "cell_type": "markdown",
   "metadata": {},
   "source": [
    "## Deep Mutational Scanning data\n",
    "\n",
    "The DMS data will show two \"conditions\": raw preferences, and rescaled preferences. \n",
    "For each \"condition\", the dot plot will show either the entropy, n effective, or the RSA and the logoplot will show the value and the mutational effect."
   ]
  },
  {
   "cell_type": "markdown",
   "metadata": {},
   "source": [
    "### paths to datafiles on github"
   ]
  },
  {
   "cell_type": "code",
   "execution_count": 2,
   "metadata": {},
   "outputs": [],
   "source": [
    "muteffects_fname = ('https://raw.githubusercontent.com/jbloomlab/ZIKV_DMS_with_EvansLab/master/results/'\n",
    "                    'muteffects/unscaled_muteffects.csv')\n",
    "prefs_fname = ('https://raw.githubusercontent.com/jbloomlab/ZIKV_DMS_with_EvansLab/master/results/'\n",
    "               'prefs/summary_avgprefs.csv')\n",
    "rescaledprefs_fname = ('https://raw.githubusercontent.com/jbloomlab/ZIKV_DMS_with_EvansLab/master/results/'\n",
    "                       'prefs/rescaled_prefs.csv')\n",
    "sitesummary_fname= ('https://raw.githubusercontent.com/jbloomlab/ZIKV_DMS_with_EvansLab/master/results/'\n",
    "                    'struct_props/struct_props_mut_tol.csv')"
   ]
  },
  {
   "cell_type": "markdown",
   "metadata": {},
   "source": [
    "### RSA"
   ]
  },
  {
   "cell_type": "code",
   "execution_count": 3,
   "metadata": {},
   "outputs": [
    {
     "data": {
      "text/html": [
       "<div>\n",
       "<style scoped>\n",
       "    .dataframe tbody tr th:only-of-type {\n",
       "        vertical-align: middle;\n",
       "    }\n",
       "\n",
       "    .dataframe tbody tr th {\n",
       "        vertical-align: top;\n",
       "    }\n",
       "\n",
       "    .dataframe thead th {\n",
       "        text-align: right;\n",
       "    }\n",
       "</style>\n",
       "<table border=\"1\" class=\"dataframe\">\n",
       "  <thead>\n",
       "    <tr style=\"text-align: right;\">\n",
       "      <th></th>\n",
       "      <th>site</th>\n",
       "      <th>site_RSA</th>\n",
       "    </tr>\n",
       "  </thead>\n",
       "  <tbody>\n",
       "    <tr>\n",
       "      <th>0</th>\n",
       "      <td>1</td>\n",
       "      <td>0.030457</td>\n",
       "    </tr>\n",
       "    <tr>\n",
       "      <th>4</th>\n",
       "      <td>2</td>\n",
       "      <td>0.244526</td>\n",
       "    </tr>\n",
       "    <tr>\n",
       "      <th>8</th>\n",
       "      <td>3</td>\n",
       "      <td>0.023952</td>\n",
       "    </tr>\n",
       "    <tr>\n",
       "      <th>12</th>\n",
       "      <td>4</td>\n",
       "      <td>0.142132</td>\n",
       "    </tr>\n",
       "    <tr>\n",
       "      <th>16</th>\n",
       "      <td>5</td>\n",
       "      <td>0.625000</td>\n",
       "    </tr>\n",
       "  </tbody>\n",
       "</table>\n",
       "</div>"
      ],
      "text/plain": [
       "    site  site_RSA\n",
       "0      1  0.030457\n",
       "4      2  0.244526\n",
       "8      3  0.023952\n",
       "12     4  0.142132\n",
       "16     5  0.625000"
      ]
     },
     "execution_count": 3,
     "metadata": {},
     "output_type": "execute_result"
    }
   ],
   "source": [
    "# read in RSA and entropy/n effective \n",
    "RSA = (pd.read_csv(sitesummary_fname).query(\"pdb == '5ire'\")\n",
    "       [['site', 'RSA', 'mutational_tolerance_measure', 'mutational_tolerance']]\n",
    "       .rename(columns={'RSA': 'site_RSA'})\n",
    "       .drop(columns=['mutational_tolerance_measure', 'mutational_tolerance']))\n",
    "RSA.head()"
   ]
  },
  {
   "cell_type": "markdown",
   "metadata": {},
   "source": [
    "### mutational effects"
   ]
  },
  {
   "cell_type": "code",
   "execution_count": 4,
   "metadata": {},
   "outputs": [
    {
     "data": {
      "text/html": [
       "<div>\n",
       "<style scoped>\n",
       "    .dataframe tbody tr th:only-of-type {\n",
       "        vertical-align: middle;\n",
       "    }\n",
       "\n",
       "    .dataframe tbody tr th {\n",
       "        vertical-align: top;\n",
       "    }\n",
       "\n",
       "    .dataframe thead th {\n",
       "        text-align: right;\n",
       "    }\n",
       "</style>\n",
       "<table border=\"1\" class=\"dataframe\">\n",
       "  <thead>\n",
       "    <tr style=\"text-align: right;\">\n",
       "      <th></th>\n",
       "      <th>site</th>\n",
       "      <th>wildtype</th>\n",
       "      <th>mutation</th>\n",
       "      <th>mut_mutational effect</th>\n",
       "    </tr>\n",
       "  </thead>\n",
       "  <tbody>\n",
       "    <tr>\n",
       "      <th>0</th>\n",
       "      <td>1</td>\n",
       "      <td>I</td>\n",
       "      <td>A</td>\n",
       "      <td>-5.046030</td>\n",
       "    </tr>\n",
       "    <tr>\n",
       "      <th>1</th>\n",
       "      <td>1</td>\n",
       "      <td>I</td>\n",
       "      <td>C</td>\n",
       "      <td>-4.308696</td>\n",
       "    </tr>\n",
       "    <tr>\n",
       "      <th>2</th>\n",
       "      <td>1</td>\n",
       "      <td>I</td>\n",
       "      <td>D</td>\n",
       "      <td>-3.884530</td>\n",
       "    </tr>\n",
       "    <tr>\n",
       "      <th>3</th>\n",
       "      <td>1</td>\n",
       "      <td>I</td>\n",
       "      <td>E</td>\n",
       "      <td>-4.290569</td>\n",
       "    </tr>\n",
       "    <tr>\n",
       "      <th>4</th>\n",
       "      <td>1</td>\n",
       "      <td>I</td>\n",
       "      <td>F</td>\n",
       "      <td>-4.370049</td>\n",
       "    </tr>\n",
       "  </tbody>\n",
       "</table>\n",
       "</div>"
      ],
      "text/plain": [
       "   site wildtype mutation  mut_mutational effect\n",
       "0     1        I        A              -5.046030\n",
       "1     1        I        C              -4.308696\n",
       "2     1        I        D              -3.884530\n",
       "3     1        I        E              -4.290569\n",
       "4     1        I        F              -4.370049"
      ]
     },
     "execution_count": 4,
     "metadata": {},
     "output_type": "execute_result"
    }
   ],
   "source": [
    "mut_effects = (pd.read_csv(muteffects_fname)\n",
    "               .drop(columns=['mutation', 'effect'])\n",
    "               .rename(columns={'mutant': 'mutation', \n",
    "                                'log2effect': 'mut_mutational effect'}))\n",
    "mut_effects.head()"
   ]
  },
  {
   "cell_type": "code",
   "execution_count": null,
   "metadata": {},
   "outputs": [],
   "source": [
    "amino_acids = ['A', 'C', 'D', 'E', 'F', 'G', 'H', 'I', 'K', 'L','M', 'N', 'P', 'Q', 'R', 'S', 'T', 'V', 'W', 'Y']\n",
    "df = (pd.concat([(pd.read_csv(fname)[['site'] + amino_acids])\n",
    "                    .assign(condition=condition)\n",
    "                    for condition, fname in [('raw preferences', prefs_fname),\n",
    "                                             ('rescaled preferences', rescaledprefs_fname)]\n",
    "                   ]))\n",
    "df['site_entropy'] = df[amino_acids].apply(lambda x: entropy(x), axis=1)\n",
    "df['site_n effective'] = df['site_entropy'].apply(lambda x: 2**x)\n",
    "df = pd.melt(df, \n",
    "                id_vars=['site', 'condition', 'site_entropy', 'site_n effective'], \n",
    "                var_name='mutation', \n",
    "                value_name='mut_value')\n",
    "df = pd.merge(df, RSA, on=['site'])\n",
    "df = pd.merge(df, mut_effects, on=['site', 'mutation'])\n",
    "df.head()"
   ]
  },
  {
   "cell_type": "code",
   "execution_count": null,
   "metadata": {},
   "outputs": [],
   "source": [
    "df['protein_chain'] = 'A'\n",
    "df['protein_site'] = df['site']\n",
    "df['label_site'] = df[['wildtype', 'site']].apply(lambda x: f'{x[0]} {x[1]}', axis=1)\n",
    "df.head()"
   ]
  },
  {
   "cell_type": "code",
   "execution_count": null,
   "metadata": {},
   "outputs": [],
   "source": [
    "df.to_csv('Sourisseau2019_DMS.csv', index=False)"
   ]
  },
  {
   "cell_type": "code",
   "execution_count": null,
   "metadata": {},
   "outputs": [],
   "source": []
  }
 ],
 "metadata": {
  "kernelspec": {
   "display_name": "Python 3",
   "language": "python",
   "name": "python3"
  },
  "language_info": {
   "codemirror_mode": {
    "name": "ipython",
    "version": 3
   },
   "file_extension": ".py",
   "mimetype": "text/x-python",
   "name": "python",
   "nbconvert_exporter": "python",
   "pygments_lexer": "ipython3",
   "version": "3.7.3"
  }
 },
 "nbformat": 4,
 "nbformat_minor": 2
}
